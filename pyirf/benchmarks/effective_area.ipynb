{
 "cells": [
  {
   "cell_type": "code",
   "execution_count": 5,
   "metadata": {},
   "outputs": [],
   "source": [
    "# This Notebook calculates the effective area"
   ]
  },
  {
   "cell_type": "code",
   "execution_count": 49,
   "metadata": {
    "tags": [
     "parameters"
    ]
   },
   "outputs": [],
   "source": [
    "# Parameters\n",
    "\n",
    "indir = \"../../data/\"\n",
    "infile = ['pyirf_eventdisplay.fits.gz',\"DESY.d20180113.V3.ID0_180degNIM2LST4MST4SST4SCMST4.prod3b-paranal20degs05b-NN.S.3HB9-FD.180000s.root\"]\n",
    "outfile = None\n",
    "key_suffix = '' # e.g. '_NO_CUTS', '_ONLY_GH', '_ONLY_THETA' for pyirf\n",
    "requirement = indir+'South-EffectiveArea.txt'\n",
    "plot_only=True"
   ]
  },
  {
   "cell_type": "code",
   "execution_count": 50,
   "metadata": {},
   "outputs": [],
   "source": [
    "import os\n",
    "\n",
    "import numpy as np\n",
    "import uproot\n",
    "from astropy.io import fits\n",
    "import astropy.units as u\n",
    "import matplotlib.pyplot as plt\n",
    "from astropy.table import QTable\n",
    "\n",
    "%matplotlib inline\n",
    "plt.rcParams['figure.figsize'] = (9, 6)"
   ]
  },
  {
   "cell_type": "code",
   "execution_count": 51,
   "metadata": {},
   "outputs": [],
   "source": [
    "# Creat files for Effective Area\n",
    "\n",
    "if not plot_only:\n",
    "    for f in infile:\n",
    "        if f.endswith('.root'):\n",
    "            # Data from EventDisplay\n",
    "            irf_eventdisplay = uproot.open(os.path.join(indir, f))\n",
    "            h = irf_eventdisplay[\"EffectiveAreaEtrue\"]\n",
    "\n",
    "            x = 0.5 * (10**h.edges[:-1] + 10**h.edges[1:])\n",
    "            y = h.values\n",
    "            xerr = 0.5 * np.diff(10**h.edges)\n",
    "            yerr = np.sqrt(h.variances)\n",
    "\n",
    "            t = QTable([x,y,xerr,yerr], names=['x','y','xerr','yerr'])\n",
    "            t.write(os.path.join(indir, f.strip('.root')+'_EffectiveArea.csv'), format='csv')\n",
    "\n",
    "        elif f.endswith('.fits.gz'):\n",
    "            # Data from pyIRF\n",
    "            area = QTable.read(os.path.join(indir, f), hdu='EFFECTIVE_AREA' + key_suffix)[0]\n",
    "\n",
    "            x = 0.5 * (area['ENERG_LO'] + area['ENERG_HI']).to_value(u.TeV)[1:-1]\n",
    "            y = area['EFFAREA'].to_value(u.m**2).T[1:-1, 0]\n",
    "            xerr = 0.5 * (area['ENERG_LO'] - area['ENERG_HI']).to_value(u.TeV)[1:-1]\n",
    "            yerr = np.zeros(len(xerr))\n",
    "\n",
    "            t = QTable([x,y,xerr,yerr], names=['x','y','xerr','yerr'])\n",
    "            t.write(os.path.join(indir, f.strip('.fits.gz')+'_EffectiveArea.csv'), format='csv')\n",
    "        else:\n",
    "            print('Reader not implemented, please include own reader')"
   ]
  },
  {
   "cell_type": "code",
   "execution_count": 52,
   "metadata": {},
   "outputs": [
    {
     "data": {
      "image/png": "[encoded data removed]",
      "text/plain": [
       "<Figure size 648x432 with 1 Axes>"
      ]
     },
     "metadata": {
      "needs_background": "light"
     },
     "output_type": "display_data"
    }
   ],
   "source": [
    "# Plotting\n",
    "\n",
    "for f in infile:\n",
    "    if f.endswith('.root'):\n",
    "        t = QTable.read(os.path.join(indir,f.strip('.root')+'_EffectiveArea.csv'))\n",
    "        plt.errorbar(t['x'], t['y'], xerr=t['xerr'], yerr=t['yerr'], ls='', label=\"EventDisplay\")\n",
    "        \n",
    "    elif f.endswith('.fits.gz'):\n",
    "        t = QTable.read(os.path.join(indir,f.strip('.fits.gz')+'_EffectiveArea.csv'))\n",
    "        plt.errorbar(t['x'], t['y'], xerr=t['xerr'], yerr=t['yerr'],ls='', label='pyirf ' + key_suffix)\n",
    "    \n",
    "    \n",
    "if requirement is not None:\n",
    "    r = np.loadtxt(requirement, unpack=True)\n",
    "    plt.plot(10**r[0], r[1], color='k', label='Requirement')\n",
    "    \n",
    "# Style settings\n",
    "plt.xscale(\"log\")\n",
    "plt.yscale(\"log\")\n",
    "plt.xlabel(\"True energy / TeV\")\n",
    "plt.ylabel(\"Effective collection area / m²\")\n",
    "plt.grid(which=\"both\")\n",
    "plt.legend()\n",
    "\n",
    "None # to remove clutter by mpl objects"
   ]
  },
  {
   "cell_type": "code",
   "execution_count": null,
   "metadata": {},
   "outputs": [],
   "source": []
  },
  {
   "cell_type": "code",
   "execution_count": null,
   "metadata": {},
   "outputs": [],
   "source": []
  }
 ],
 "metadata": {
  "kernelspec": {
   "display_name": "Python 3",
   "language": "python",
   "name": "python3"
  },
  "language_info": {
   "codemirror_mode": {
    "name": "ipython",
    "version": 3
   },
   "file_extension": ".py",
   "mimetype": "text/x-python",
   "name": "python",
   "nbconvert_exporter": "python",
   "pygments_lexer": "ipython3",
   "version": "3.7.9"
  }
 },
 "nbformat": 4,
 "nbformat_minor": 4
}
